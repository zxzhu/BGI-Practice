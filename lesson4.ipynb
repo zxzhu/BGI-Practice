{
 "cells": [
  {
   "cell_type": "markdown",
   "metadata": {},
   "source": [
    "# lesson 4\n",
    "\n",
    "**背景：**\n",
    "真核生物的基因包括了外显子和内含子，但转录成RNA后，内含子往往会被切除，所有外显子的序列首尾相接，形成能够编码蛋白质的成熟mRNA序列。然而，一条完整的mRNA序列，并不是全部序列都能翻译成蛋白质，只有中间的CDS区(也叫Open reading frame、Protein coding region)才能翻译，CDS区两侧分别是5’UTR和3’UTR。真核基因的结构以及对应的mRNA结构，可以参考以下两个链接中的示意图：\n",
    "\n",
    "https://en.wikipedia.org/wiki/Gene    ＃Structure and function部分的第一个图。思考题：5’UTR、3’UTR、CDS跟exon的关系是什么。\n",
    "\n",
    "https://en.wikipedia.org/wiki/Messenger_RNA    ＃Structure部分的图。思考题：5’Cap和Poly-A tail是不是由基因组编码的。\n",
    "\n",
    "而我们平常做基因注释，往往只能把每个基因的CDS区给注释出来(见之前给大家的GFF文件出现的大量CDS标签)。所以，只要把每个基因的CDS序列提取出来，然后首尾相接，即可用于翻译成蛋白质的序列。\n",
    "\n",
    "编程任务：根据Camponotus floridanus蚂蚁的基因组fasta文件以及配套的基因注释gff文件，1)获取每个基因去除内含子后的CDS序列，以fasta格式输出；2)根据已知的密码子表，把CDS翻译成蛋白质序列，以fasta格式输出。\n",
    "\n",
    "data: cm.fa.gz; cflo_v3.3.gff.gz"
   ]
  },
  {
   "cell_type": "markdown",
   "metadata": {},
   "source": [
    "## answer\n",
    "\n",
    "下图为真核生物蛋白编码基因结构图：\n",
    "\n",
    "![eukaryotic protein-coding gene](https://upload.wikimedia.org/wikipedia/commons/5/54/Gene_structure_eukaryote_2_annotated.svg)"
   ]
  },
  {
   "cell_type": "markdown",
   "metadata": {},
   "source": [
    "从上图看出，5'UTR和3'UTR会被转录，而后保留在成熟mRNA中，因此5'UTR和3'UTR属于exon部分，而CDS可以理解为Pre-mRNA经过剪接，去掉intron后将exon连接起来的产物，即Protein coding region。"
   ]
  },
  {
   "cell_type": "markdown",
   "metadata": {},
   "source": [
    "下图为真核生物成熟mRNA结构图：\n",
    "\n",
    "![mRNA_structure](https://upload.wikimedia.org/wikipedia/commons/b/ba/MRNA_structure.svg)"
   ]
  },
  {
   "cell_type": "markdown",
   "metadata": {},
   "source": [
    "5'cap和3'poly-A tail不是转录得来，而是从头合成并连接到5'UTR和3'UTR上。"
   ]
  },
  {
   "cell_type": "markdown",
   "metadata": {},
   "source": [
    "## 提取每个基因所有的CDS"
   ]
  },
  {
   "cell_type": "code",
   "execution_count": null,
   "metadata": {},
   "outputs": [],
   "source": [
    "# lesson4 practice\n",
    "# date: 2018/08/02\n",
    "# Author: zxzhu\n",
    "\n",
    "def get_CDS(gff, genome_sequence, out):   #获取cds信息，每个基因对应[scaffold, strand, (cds_start, cds_end)]。\n",
    "    gene = {}                             #存储每个基因所有cds的信息。\n",
    "    genome = {}                           #存储每个scaffold对应的序列信息。\n",
    "    g = open(gff, 'r')\n",
    "    for line in g:\n",
    "        line = line.strip()\n",
    "        if 'mRNA' in line:               \n",
    "            line = line.split('\\t')\n",
    "            gene_name = line[-1].split(';')[0].split('=')[-1]\n",
    "            gene[gene_name] = [line[0], line[6]]\n",
    "\n",
    "        else:                                       \n",
    "            line = line.split('\\t')\n",
    "            gene_name = line[-1].split(';')[0].split('=')[-1]\n",
    "            if line[7] != '.':\n",
    "                position = (int(line[3]) + int(line[7]), int(line[4]))\n",
    "                gene[gene_name].append(position)\n",
    "            else:\n",
    "                position = (int(line[3]), int(line[4]))\n",
    "                gene[gene_name].append(position)\n",
    "    g.close()\n",
    "    print('data read')\n",
    "    \n",
    "    f = open(genome_sequence, 'r')\n",
    "    scaffold = ''\n",
    "    tmp = []\n",
    "    for line in f:\n",
    "        line = line.strip()\n",
    "        if line.startswith('>'):\n",
    "            if tmp:\n",
    "                genome[scaffold] = ''.join(tmp)\n",
    "                scaffold = line[1:]\n",
    "                tmp = []\n",
    "            else:\n",
    "                scaffold = line[1:]\n",
    "        else:\n",
    "            tmp.append(line)\n",
    "    genome[scaffold] = ''.join(tmp)\n",
    "    f.close()\n",
    "    print('data read')\n",
    "    \n",
    "    get_fasta(gene,genome,out)\n",
    "\n",
    "def get_fasta(gene, genome, out):\n",
    "    w = open(out, 'w')\n",
    "    for g, cds in gene.items():\n",
    "        sequence = genome[cds[0]]     \n",
    "        strand = cds[1]               \n",
    "        position = sorted(cds[2:], key=lambda x: x[0])   \n",
    "        if strand == '+':\n",
    "            w.write('>{}\\n'.format(g))\n",
    "            cds_sequence = ''.join([sequence[start-1:end] for (start, end) in position])                  #按顺序拼接所有cds。\n",
    "            w.write('\\n'.join([cds_sequence[i:i+80] for i in range(0, len(cds_sequence), 80)]) + '\\n')    #80个碱基一行。\n",
    "\n",
    "        if strand == '-':\n",
    "            w.write('>{}\\n'.format(g))\n",
    "            cds_sequence = ''.join([sequence[start-1:end] for (start, end) in position])\n",
    "            cds_sequence = reverse(cds_sequence)         \n",
    "            w.write('\\n'.join([cds_sequence[i:i+80] for i in range(0, len(cds_sequence), 80)]) + '\\n')\n",
    "    w.close()\n",
    "    print('done!')\n",
    "    \n",
    "def reverse(sequence):                           #反向互补。\n",
    "    D = {'A':'T', 'T':'A', 'C':'G', 'G':'C'}\n",
    "    return ''.join([D[i] for i in sequence.upper()][::-1])\n",
    "\n",
    "gff = './data/Traning/Lesson3/cflo_v3.3.gff'\n",
    "genome_sequence = './data/Traning/Lesson2/cm.fa'\n",
    "out = 'lesson4_cds.fa'\n",
    "get_CDS(gff, genome_sequence, out)"
   ]
  },
  {
   "cell_type": "markdown",
   "metadata": {},
   "source": [
    "运行以上脚本，可以得到lesson4_cds.fa文件，给出部分文件截图：\n",
    "\n",
    "![mRNA](./image/lesson4.JPG)"
   ]
  },
  {
   "cell_type": "markdown",
   "metadata": {},
   "source": [
    "需要注意的地方是：**每个gene对应多个cds,要按位置信息拼接好这些cds。如果是负链，应该进行反向互补。**"
   ]
  },
  {
   "cell_type": "markdown",
   "metadata": {},
   "source": [
    "## 将CDS翻译为蛋白序列 "
   ]
  },
  {
   "cell_type": "code",
   "execution_count": 16,
   "metadata": {},
   "outputs": [],
   "source": [
    "def codon2AA(codon,s):\n",
    "    try:\n",
    "        return codon[s]\n",
    "    except KeyError:\n",
    "        return 'X'\n",
    "\n",
    "codon_file = './data/codon.txt'\n",
    "f = open('./lesson4.fa', 'r')\n",
    "tmp = []\n",
    "gene = {}\n",
    "for line in f:\n",
    "    line = line.strip()\n",
    "    if line.startswith('>'):\n",
    "        if tmp:\n",
    "            gene[cds] = ''.join(tmp)\n",
    "            cds = line[1:]\n",
    "            tmp = []\n",
    "        else:\n",
    "            cds = line[1:]\n",
    "    else:\n",
    "        tmp.append(line)\n",
    "gene[cds] = ''.join(tmp)\n",
    "f.close()\n",
    "codon = {}\n",
    "with open(codon_file, 'r') as f:\n",
    "    for line in f:\n",
    "        line = line.strip().split(' ')\n",
    "        codon[line[0]] = line[-1]\n",
    "\n",
    "w = open('lesson4_protein.fa', 'w')\n",
    "for key, value in gene.items():\n",
    "    w.write('>{}\\n'.format(key))\n",
    "    #print(key,len(value)/3)\n",
    "    sequence = [value[i:i+3] for i in range(0, len(value), 3)]\n",
    "    protein_sequence = ''.join([codon2AA(codon,s) for s in sequence])\n",
    "    \n",
    "    w.write('\\n'.join([protein_sequence[i:i+80] for i in range(0, len(protein_sequence), 80)]) + '\\n')\n",
    "                   \n",
    "w.close()"
   ]
  },
  {
   "cell_type": "markdown",
   "metadata": {},
   "source": [
    "利用上述代码可以将CDS翻译为蛋白序列。核对后无误，截图展示：\n",
    "\n",
    "![protein](./image/lesson4_protein.JPG)"
   ]
  },
  {
   "cell_type": "markdown",
   "metadata": {},
   "source": [
    "## Reference\n",
    "\n",
    "[GFF3](http://rice.bio.indiana.edu:7082/annot/gff3.html)\n",
    "\n",
    "[Gene](https://en.wikipedia.org/wiki/Gene)\n",
    "\n",
    "[Messenger_RNA](https://en.wikipedia.org/wiki/Messenger_RNA)"
   ]
  }
 ],
 "metadata": {
  "kernelspec": {
   "display_name": "Python 3",
   "language": "python",
   "name": "python3"
  },
  "language_info": {
   "codemirror_mode": {
    "name": "ipython",
    "version": 3
   },
   "file_extension": ".py",
   "mimetype": "text/x-python",
   "name": "python",
   "nbconvert_exporter": "python",
   "pygments_lexer": "ipython3",
   "version": "3.6.1"
  }
 },
 "nbformat": 4,
 "nbformat_minor": 2
}
