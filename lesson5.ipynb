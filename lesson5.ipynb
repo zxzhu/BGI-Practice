{
 "cells": [
  {
   "cell_type": "markdown",
   "metadata": {},
   "source": [
    "# lesson 5\n",
    "\n",
    "1、把上一lesson中得到的蛋白序列fasta文件(如名字叫Cflo.pep)，作为输入文件，编写一个脚本，把Cflo.pep切割成100个子文件，每个文件的序列条数尽量相等，然后输出到一个叫split的目录下，子文件名可以是Cflo.pep.1、Cflo.pep.2、……、Cflo.pep.100。该perl脚本需要会自己判断split/目录是否已经存在，如果不存在则自动创建。\n",
    "\n",
    "2、编写一个脚本(script1.pl)，用于判断一条蛋白序列的第一个氨基酸是否是M，如果一条蛋白序列的第一个氨基酸是M，就输出这条蛋白。编写第二个脚本(script2.pl)，用于自动获取split/目录下的100个子文件，然后对每一个子文件生成一条执行第一个脚本的命令行，并把命令行(如perl script1.pl Cflo.pep.1 >Cflo.pep.1.out)输出到一个shell文件中(如Cflo.pep.1.sh)，从而得到100个子文件对应的100个shell文件。最后把这100个shell文件用qsub提交到计算节点中并行执行。\n"
   ]
  },
  {
   "cell_type": "code",
   "execution_count": 23,
   "metadata": {},
   "outputs": [],
   "source": [
    "import os\n",
    "if os.path.exists('./split/'):\n",
    "    path = './split/'\n",
    "else:\n",
    "    os.mkdir('split')\n",
    "    path = './split/'\n",
    "    \n",
    "pep_num = 0\n",
    "with open('./lesson4_protein.fa','r') as f:\n",
    "    for line in f:\n",
    "        if line.startswith('>'):\n",
    "            pep_num += 1\n",
    "num_perfile = [pep_num // 100] * 100\n",
    "for i, j in enumerate(num_perfile):\n",
    "    if i < pep_num % 100 :\n",
    "        num_perfile[i] += 1\n",
    "        \n",
    "f = open('./lesson4_protein.fa', 'r')\n",
    "count = 0\n",
    "file_num = 1\n",
    "limit_num = num_perfile.pop()\n",
    "w = open(path + 'Cflo.pep_'+str(file_num), 'w')\n",
    "for line in f:\n",
    "    if line.startswith('>'):\n",
    "        count += 1         \n",
    "    if count <= limit_num:\n",
    "        w.write(line)\n",
    "    else:\n",
    "        w.close()\n",
    "        limit_num = num_perfile.pop()\n",
    "        file_num += 1\n",
    "        count = 1\n",
    "        w = open(path + 'Cflo.pep_'+str(file_num), 'w')\n",
    "        w.write(line)\n",
    "w.close()\n",
    "                "
   ]
  },
  {
   "cell_type": "markdown",
   "metadata": {},
   "source": [
    "上述脚本即可将lesson4中的蛋白序列文件lesson4_protein.fa切割为100个文件Cflo.pep_1、Cflo.pep_2、...、Cflo.pep_100。蛋白序列总条数为17064，切割后每个文件蛋白序列为170条或171条。所有文件都在./split/文件夹下。"
   ]
  },
  {
   "cell_type": "markdown",
   "metadata": {},
   "source": [
    "### 判断蛋白序列起始氨基酸"
   ]
  },
  {
   "cell_type": "markdown",
   "metadata": {},
   "source": [
    "首先编写脚本script1.py用于判断一条蛋白序列的第一个氨基酸是否为M。若以M开头，print这条序列。"
   ]
  },
  {
   "cell_type": "code",
   "execution_count": null,
   "metadata": {},
   "outputs": [],
   "source": [
    "import sys\n",
    "\n",
    "filename = sys.argv[1]         #命令行参数\n",
    "f = open(filename, 'r')\n",
    "pep = []\n",
    "pro_name = ''\n",
    "pro_seq = []\n",
    "for line in f:\n",
    "    if line.startswith('>'):\n",
    "        if pro_name:\n",
    "            seq = ''.join(pro_seq)\n",
    "            if seq.startswith('M'):          #判断序列是否以M起始。\n",
    "                pep.append([pro_name, seq])\n",
    "            pro_name = line\n",
    "            pro_seq = []\n",
    "        else:\n",
    "            pro_name = line\n",
    "    else:\n",
    "        pro_seq.append(line)\n",
    "seq = ''.join(pro_seq)\n",
    "if seq.startswith('M'):          \n",
    "    pep.append([pro_name, seq])  \n",
    "f.close()\n",
    "\n",
    "all_seq = ''.join([n + s for n, s in pep])\n",
    "print(all_seq)"
   ]
  },
  {
   "cell_type": "markdown",
   "metadata": {},
   "source": [
    "上面的脚本script1.py可以将存储蛋白序列的fasta文件中以M起始的蛋白序列提取出来，并打印到标准输出。\n",
    "\n",
    "`python script1.py Cflo.pep_1 > out_1`\n",
    "\n",
    "即可提取Cflo.pep_1中以M开头的蛋白序列并输入至out_1中。结果部分截图：\n",
    "\n",
    "![out_1](./image/lesson5_M.JPG)"
   ]
  },
  {
   "cell_type": "markdown",
   "metadata": {},
   "source": [
    "<hr>\n",
    "接下来编写脚本script2.py。用于自动获取split/目录下的100个子文件，然后对每一个子文件生成一条执行script1.py的命令行，并把命令行输出到一个shell文件中。"
   ]
  },
  {
   "cell_type": "code",
   "execution_count": null,
   "metadata": {},
   "outputs": [],
   "source": [
    "import os\n",
    "files = os.listdir('./split')\n",
    "os.mkdir('shell_script')\n",
    "path = 'shell_script/'\n",
    "for i in files:\n",
    "    w = open(path + i + '.sh', 'w')\n",
    "    w.write('python script1.py {} > out_{}'.format(i, i.split('_')[-1]))\n",
    "    w.close()"
   ]
  },
  {
   "cell_type": "markdown",
   "metadata": {},
   "source": [
    "运行script2就可以生成100个对应的sh文件，储存在./shell_script文件夹下。如下图：\n",
    "\n",
    "![shell_script](./image/lesson5_sh.JPG)"
   ]
  },
  {
   "cell_type": "markdown",
   "metadata": {},
   "source": [
    "每个sh文件内容形如：\n",
    "\n",
    "`python script1.py Cflo.pep_1 > out_1`"
   ]
  },
  {
   "cell_type": "markdown",
   "metadata": {},
   "source": [
    "## Reference\n",
    "\n",
    "[Python3.6 os module](https://docs.python.org/3.6/library/os.html#module-os)\n",
    "\n",
    "[Python 脚本传参方式](https://blog.csdn.net/weixin_35653315/article/details/72886718)"
   ]
  }
 ],
 "metadata": {
  "kernelspec": {
   "display_name": "Python 3",
   "language": "python",
   "name": "python3"
  },
  "language_info": {
   "codemirror_mode": {
    "name": "ipython",
    "version": 3
   },
   "file_extension": ".py",
   "mimetype": "text/x-python",
   "name": "python",
   "nbconvert_exporter": "python",
   "pygments_lexer": "ipython3",
   "version": "3.6.1"
  }
 },
 "nbformat": 4,
 "nbformat_minor": 2
}
