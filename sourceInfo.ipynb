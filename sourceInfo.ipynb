{
 "cells": [
  {
   "cell_type": "markdown",
   "metadata": {},
   "source": [
    "### Source 信息修改\n",
    "---\n",
    "我们从GEO数据库得到的数据描述信息（source字段）描述了数据的来源信息和处理信息，source字段在数据筛选以及后续的数据分析和展示都起到了很大的作用，但source字段的描述信息很长，不利于展示（如下图1）。参考了SRA数据库的数据描述方法（例 [GSE107580](https://www.ncbi.nlm.nih.gov/Traces/study/?acc=GSE107580&o=acc_s%3Aa))，我将source字段进行了切割和整理，将source字段分割为几个不同的字段分别进行描述（如下图2）。"
   ]
  },
  {
   "cell_type": "markdown",
   "metadata": {},
   "source": [
    "![img_01](https://cdn.jsdelivr.net/gh/zxzhu/myPic/img/source_img_01.png)\n",
    "<center>图1 GSE107580 source字段</center>"
   ]
  },
  {
   "cell_type": "markdown",
   "metadata": {},
   "source": [
    "![img_02](https://cdn.jsdelivr.net/gh/zxzhu/myPic/img/source_img_02.png)\n",
    "<center>图2 GSE107580 修改后的source字段</center>"
   ]
  },
  {
   "cell_type": "markdown",
   "metadata": {},
   "source": [
    "**为了**方便后续对source字段的提取，我将每个GSE的GSM对应的source以json格式储存。存储格式为：  \n",
    "{  \n",
    "    gse1: {gsm1: {features: {key1: value1, key2: value2 ...}, cancer: value}, cancer_flag: 0 or 1},  \n",
    "    gse2: {...},...  \n",
    "}  \n",
    "以GSE107580为例：  "
   ]
  },
  {
   "cell_type": "code",
   "execution_count": 3,
   "metadata": {},
   "outputs": [
    {
     "data": {
      "text/plain": [
       "dict_keys(['GSM2871668', 'GSM2871669', 'GSM2871670', 'GSM2871671', 'GSM2871672', 'GSM2871673', 'GSM3557745', 'GSM3557746', 'cancer_flag'])"
      ]
     },
     "execution_count": 3,
     "metadata": {},
     "output_type": "execute_result"
    }
   ],
   "source": [
    "import json\n",
    "with open('./sourceInfo.json', 'r') as f:\n",
    "    aDict = json.load(f)\n",
    "aDict['GSE107580'].keys()                 # json 文件包含所有的 GSE，每个GSE包含其对应的所有GSM和一个 'cancer_flag' 字段"
   ]
  },
  {
   "cell_type": "code",
   "execution_count": 4,
   "metadata": {},
   "outputs": [
    {
     "data": {
      "text/plain": [
       "{'features': {'source_name': 'Sai cells',\n",
       "  'cell_type': 'fetal-derived neural progenitor cells',\n",
       "  'vector': 'LV.gRNA.CAS9GFP',\n",
       "  'grna_target': 'LacZ',\n",
       "  'viral_vector': ''},\n",
       " 'cancer': ''}"
      ]
     },
     "execution_count": 4,
     "metadata": {},
     "output_type": "execute_result"
    }
   ],
   "source": [
    "aDict['GSE107580']['GSM2871668']            # 每个GSM包含'features'字段（代表source 信息）以及'cancer'字段（代表癌症类型，''为没有）"
   ]
  },
  {
   "cell_type": "code",
   "execution_count": 6,
   "metadata": {},
   "outputs": [
    {
     "data": {
      "text/plain": [
       "0"
      ]
     },
     "execution_count": 6,
     "metadata": {},
     "output_type": "execute_result"
    }
   ],
   "source": [
    "aDict['GSE107580']['cancer_flag']             # 每个GSE除了含有GSM外，还包含一个 'cancer_flag' 字段，1代表含有癌症数据，0则没有。"
   ]
  },
  {
   "cell_type": "markdown",
   "metadata": {},
   "source": [
    "### 人类数据情况\n",
    "---\n",
    "对新收集的人类数据，在分割source字段信息后，我对所有的GSM的癌症信息进行了注释。最后得到如下结果："
   ]
  },
  {
   "cell_type": "code",
   "execution_count": 10,
   "metadata": {},
   "outputs": [
    {
     "name": "stdout",
     "output_type": "stream",
     "text": [
      "['GSE109085', 'GSE109317', 'GSE113946', 'GSE118093', 'GSE122254', 'GSE124610', 'GSE127286', 'GSE127301', 'GSE127304', 'GSE127318', 'GSE127331', 'GSE130591', 'GSE131626', 'GSE27584', 'GSE58695', 'GSE67205', 'GSE80808', 'GSE81541', 'GSE81779', 'GSE82045', 'GSE94331', 'GSE97693', 'GSE98732']\n",
      "23\n"
     ]
    }
   ],
   "source": [
    "# 查看具有癌症数据的GSE\n",
    "gseList = []\n",
    "for gse in aDict.keys():\n",
    "    if aDict[gse]['cancer_flag'] > 0:\n",
    "        gseList.append(gse)\n",
    "print(gseList)\n",
    "print(len(gseList))"
   ]
  },
  {
   "cell_type": "markdown",
   "metadata": {},
   "source": [
    "**共计23个GSE数据集含有癌症数据。**"
   ]
  },
  {
   "cell_type": "code",
   "execution_count": 13,
   "metadata": {},
   "outputs": [],
   "source": [
    "# 统计癌症类型和数量\n",
    "import pandas as pd\n",
    "import json\n",
    "import os\n",
    "\n",
    "dfList = []\n",
    "for i in os.listdir('human/results/'):\n",
    "    gse_df = pd.read_csv(os.path.join('human/results/', i))\n",
    "    gse_df = gse_df[['GEO', 'cancer']]\n",
    "    gse_df = gse_df.fillna('')\n",
    "    dfList.append(gse_df)\n",
    "df = pd.concat(dfList)\n",
    "with open('./sourceInfo.json', 'r') as f:\n",
    "    aDict = json.load(f)\n",
    "    \n",
    "download_df = pd.read_excel('human/downloads/Homo_sapiens.xlsx')\n",
    "result_df = pd.merge(download_df, df, how='left').fillna('')"
   ]
  },
  {
   "cell_type": "code",
   "execution_count": 16,
   "metadata": {},
   "outputs": [
    {
     "name": "stdout",
     "output_type": "stream",
     "text": [
      "non-small cell lung cancer : 2\n",
      "B cell lymphoma : 2\n",
      "renal carcinoma : 1\n",
      "colon cancer : 4\n",
      "glioblastoma : 1\n",
      "breast cancer : 15\n",
      "Pancreatic cancer : 6\n",
      "cervical cancer : 3\n",
      "HCT116 : 2\n",
      "prostate cancer : 4\n",
      "Hep-2 : 18\n",
      "lung cancer : 6\n",
      "ovarian cancer : 4\n",
      "liver cancer : 2\n",
      "HeLa : 1\n",
      "leukemia : 1\n",
      "chronic lymphocytic leukemia : 346\n",
      "neuroblastoma : 7\n",
      "425\n"
     ]
    }
   ],
   "source": [
    "cancerDict = {}\n",
    "for i in set(result_df['cancer']):\n",
    "    cancerDict[i] = sum(result_df['cancer']==i)\n",
    "cancerDict.pop('')\n",
    "for k, v in cancerDict.items():\n",
    "    print(k, ':', v)\n",
    "print(sum(cancerDict.values()))"
   ]
  },
  {
   "cell_type": "markdown",
   "metadata": {},
   "source": [
    "共计425个GSM是癌症数据。chronic lymphocytic leukemia(慢性淋巴细胞白血病特别多)，看了一下是GSE109085数据集，多为RNA-Seq测序，应该是单细胞测序。"
   ]
  },
  {
   "cell_type": "code",
   "execution_count": 17,
   "metadata": {},
   "outputs": [
    {
     "data": {
      "text/plain": [
       "352"
      ]
     },
     "execution_count": 17,
     "metadata": {},
     "output_type": "execute_result"
    }
   ],
   "source": [
    "sum((result_df.Library_strategy == 'RNA-Seq') & (result_df['cancer'] != ''))      # RNA-Seq癌症数据"
   ]
  },
  {
   "cell_type": "code",
   "execution_count": 19,
   "metadata": {},
   "outputs": [
    {
     "data": {
      "text/plain": [
       "73"
      ]
     },
     "execution_count": 19,
     "metadata": {},
     "output_type": "execute_result"
    }
   ],
   "source": [
    "sum((result_df.Library_strategy == 'Bisulfite-Seq') & (result_df['cancer'] != ''))   # BS-Seq癌症数据"
   ]
  },
  {
   "cell_type": "code",
   "execution_count": null,
   "metadata": {},
   "outputs": [],
   "source": []
  }
 ],
 "metadata": {
  "kernelspec": {
   "display_name": "Python 3",
   "language": "python",
   "name": "python3"
  },
  "language_info": {
   "codemirror_mode": {
    "name": "ipython",
    "version": 3
   },
   "file_extension": ".py",
   "mimetype": "text/x-python",
   "name": "python",
   "nbconvert_exporter": "python",
   "pygments_lexer": "ipython3",
   "version": "3.7.3"
  }
 },
 "nbformat": 4,
 "nbformat_minor": 2
}
