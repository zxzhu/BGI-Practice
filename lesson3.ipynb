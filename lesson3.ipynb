{
 "cells": [
  {
   "cell_type": "markdown",
   "metadata": {},
   "source": [
    "# lesson 3:\n",
    "    \n",
    "data: cflo_v3.3.gff.gz\n",
    "\n",
    "这是Camponotus floridanus蚂蚁的蛋白编码基因的注释文件，以Gff3格式存储。\n",
    "\n",
    "任务是：1）网上查找资料了解Gff3格式；2）统计该蚂蚁的基因总个数；3）计算每一个基因的CDS的总长，输出格式为第一列是基因ID，第二列是该基因的CDS总长度。"
   ]
  },
  {
   "cell_type": "markdown",
   "metadata": {},
   "source": [
    "## answer\n",
    "\n",
    "GFF3是注释文件。文件中每一行分为9列，以TAB分开。\n",
    "\n",
    "依次是：\n",
    "\n",
    "1. reference sequence：参照序列\n",
    "\n",
    " 指出注释的对象。如一个染色体，克隆或片段。可以有多个参照序列。\n",
    "\n",
    "2. source：来源\n",
    "\n",
    " 注释的来源。如果未知，则用点（.）代替。\n",
    "\n",
    "3. type：类型\n",
    "\n",
    " 属性的类型。如gene，repeat_region，exon，CDS等。\n",
    "\n",
    "4. start position：起点\n",
    "\n",
    " 属性对应片段的起点。从1开始计数。\n",
    "\n",
    "5. end position：终点\n",
    "\n",
    " 属性对应片段的终点。\n",
    "\n",
    "6. score：得分\n",
    "\n",
    " 对于一些可以量化的属性，可以在此设置一个数值以表示程度的不同。如果为空，用点（.）代替。\n",
    "\n",
    "7. strand：链\n",
    "\n",
    " “＋”表示正链，“－”表示负链，“.”表示不需要指定正负链。\n",
    "\n",
    "8. phase：步进\n",
    "\n",
    " 对于编码蛋白质的CDS来说，本列指定下一个密码子开始的位置。可以是0，1或2，表示到达下一个密码子需要跳过的碱基个数。对于其它属性，则用点（.）代替。\n",
    "\n",
    "9. attributes：属性"
   ]
  },
  {
   "cell_type": "markdown",
   "metadata": {},
   "source": [
    "## 数据统计"
   ]
  },
  {
   "cell_type": "code",
   "execution_count": 1,
   "metadata": {},
   "outputs": [
    {
     "name": "stdout",
     "output_type": "stream",
     "text": [
      "Genes:\t17064.\n",
      "\n"
     ]
    }
   ],
   "source": [
    "# lesson3 practice\n",
    "# date: 2018/08/01\n",
    "# author: zxzhu\n",
    "\n",
    "in_filename = './data/Traning/Lesson3/cflo_v3.3.gff'\n",
    "out_filename = 'lesson3_result.txt'\n",
    "gene = {}\n",
    "f = open(in_filename, 'r')\n",
    "for line in (i.strip() for i in f):\n",
    "    if 'CDS' in line:\n",
    "        line = line.split('\\t')\n",
    "        gene_name = line[-1].split('=')[-1][:-1]\n",
    "        gene[gene_name] = gene.get(gene_name,0) + int(line[4]) - int(line[3] + 1)\n",
    "        \n",
    "f.close()\n",
    "print('Genes:\\t{}.\\n'.format(len(gene.keys())))\n",
    "\n",
    "with open(out_filename, 'w') as w:\n",
    "    w.write('Gene_name\\tCDS_length\\n')\n",
    "    w.write('\\n'.join([key + '\\t' + str(value) for key, value in gene.items()]))\n",
    "    "
   ]
  },
  {
   "cell_type": "markdown",
   "metadata": {},
   "source": [
    "共计17064个基因，每个基因的CDS总长度见：[lesson3_result](https://github.com/zxzhu/BGI-Practice/blob/master/data/lesson3_result.txt)"
   ]
  },
  {
   "cell_type": "markdown",
   "metadata": {},
   "source": [
    "## Reference\n",
    "\n",
    "[GFF3文件格式](https://blog.csdn.net/hugolee123/article/details/44302231)"
   ]
  }
 ],
 "metadata": {
  "kernelspec": {
   "display_name": "Python 3",
   "language": "python",
   "name": "python3"
  },
  "language_info": {
   "codemirror_mode": {
    "name": "ipython",
    "version": 3
   },
   "file_extension": ".py",
   "mimetype": "text/x-python",
   "name": "python",
   "nbconvert_exporter": "python",
   "pygments_lexer": "ipython3",
   "version": "3.6.1"
  }
 },
 "nbformat": 4,
 "nbformat_minor": 2
}
