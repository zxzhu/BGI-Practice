{
 "cells": [
  {
   "cell_type": "markdown",
   "metadata": {},
   "source": [
    "# lesson 2\n",
    "data: cm.fa.gz  \n",
    "\n",
    "这是一种学名叫Camponotus floridanus的蚂蚁的基因组序列，以fasta格式存储。\n",
    "\n",
    "任务是：1）网上查找资料了解fasta格式；2）计算基因组中每条scaffold的长度，输出格式为第一列是scaffold ID，第二列为该scaffold长度；3)统计该种蚂蚁的基因组大小是多少Mb、4）计算该基因组的CG含量、5)统计该基因组中酶切位点CCGGTCGACCGG的数量。\n",
    "\n",
    "## answer\n",
    "\n",
    "fasta格式的文件是文本文件，用于储存序列，可以储存DNA、RNA和蛋白质序列，一般分为两个部分，第1行是以>开头的序列描述信息，包括数据库中的编号，序列名称，序列类型，剩余的为序列信息。序列信息一般70或80个碱基一行。如下图所示：  \n",
    "\n",
    "![fasta_eg](./image/fasta_eg.JPG)\n",
    "\n",
    "fasta格式的文件有很多扩展名，不同的扩展名代表不同的生物学数据，但基本格式一致。如下图所示：  \n",
    "\n",
    "![fasta_extension](./image/fasta_extension.JPG)"
   ]
  },
  {
   "cell_type": "markdown",
   "metadata": {},
   "source": [
    "## 数据统计"
   ]
  },
  {
   "cell_type": "code",
   "execution_count": 12,
   "metadata": {},
   "outputs": [
    {
     "name": "stdout",
     "output_type": "stream",
     "text": [
      "Genome size: 235.58Mb.\n",
      "GC content: 33.01%.\n",
      "scaffold:24029.\n",
      "\n",
      "The number of Restriction Enzyme cutting sites is 14\n",
      "\n"
     ]
    }
   ],
   "source": [
    "# lesson2 practice\n",
    "# date: 2018/08/01\n",
    "# author: zxzhu\n",
    "\n",
    "import re\n",
    "\n",
    "def main(infile_name, outfile_name):\n",
    "    title = ''\n",
    "    sequence = ''\n",
    "    genome = 0\n",
    "    sites = 0\n",
    "    GC = 0\n",
    "    scaffolds = []\n",
    "    f = open(infile_name, 'r')\n",
    "    for line in (i.strip() for i in f):\n",
    "        if line.startswith('>'):\n",
    "            if sequence:\n",
    "                scaffolds.append((len(sequence), title))\n",
    "                genome += len(sequence)\n",
    "                GC += sequence.count('G')+sequence.count('C')\n",
    "                sites += site_count(sequence)\n",
    "                sequence = ''\n",
    "                title = line[1:]\n",
    "            else:\n",
    "                title = line[1:]\n",
    "        else:\n",
    "            sequence += line\n",
    "    scaffolds.append((len(sequence), title))\n",
    "    genome += len(sequence)\n",
    "    GC += sequence.count('G')+sequence.count('C')\n",
    "    sites += site_count(sequence)\n",
    "    f.close()\n",
    "    \n",
    "    w = open(outfile_name, 'w')\n",
    "    scaffolds = sorted(scaffolds, key=lambda x: x[-1])\n",
    "    w.write('\\n'.join([i[-1] + '\\t' + str(i[0]) for i in scaffolds]))\n",
    "    w.close()\n",
    "    \n",
    "    print('Genome size: {:.5}Mb.\\nGC content: {:.4}%.\\nscaffold:{}.\\n'.format(genome / 1000000, GC * 100 / genome, len(scaffolds)))\n",
    "    print('The number of Restriction Enzyme cutting sites is {}\\n'.format(sites))\n",
    "\n",
    "def site_count(sequence, pattern = r'CCGGTCGACCGG'):\n",
    "    site = re.findall(pattern, sequence)\n",
    "    return len(site)\n",
    "\n",
    "infile_name = './data/Traning/Lesson2/cm.fa'\n",
    "outfile_name = 'scaffold_length.txt'\n",
    "main(infile_name, outfile_name)\n"
   ]
  },
  {
   "cell_type": "markdown",
   "metadata": {},
   "source": [
    "## 问题\n",
    "\n",
    "如下图所示，cm.fa文件中除了有scaffold\\*外，还有C\\*的序列长度一般是100bp至10kb左右，例如C3769279这种序列是什么意思？和scaffold有什么区别？\n",
    "\n",
    "![unknow sequence](./image/unknown_sequence.JPG)\n",
    "\n",
    "统计的时候我把这两种序列都算作了scaffold。"
   ]
  },
  {
   "cell_type": "markdown",
   "metadata": {},
   "source": [
    "## Reference\n",
    "\n",
    "[FASTQ与FASTA](https://zhuanlan.zhihu.com/p/34518389)\n",
    "\n",
    "[FASTA format](https://en.wikipedia.org/wiki/FASTA_format#FASTA_file)\n",
    "\n",
    "[contig 与 scaffold](http://blog.sina.com.cn/s/blog_670445240101mw8e.html)\n",
    "\n",
    "[ContigN50 与 ScaffoldN50](http://blog.sina.com.cn/s/blog_80d2d9fd0100x3fa.html)"
   ]
  }
 ],
 "metadata": {
  "kernelspec": {
   "display_name": "Python 3",
   "language": "python",
   "name": "python3"
  },
  "language_info": {
   "codemirror_mode": {
    "name": "ipython",
    "version": 3
   },
   "file_extension": ".py",
   "mimetype": "text/x-python",
   "name": "python",
   "nbconvert_exporter": "python",
   "pygments_lexer": "ipython3",
   "version": "3.6.1"
  }
 },
 "nbformat": 4,
 "nbformat_minor": 2
}
