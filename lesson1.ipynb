{
 "cells": [
  {
   "cell_type": "markdown",
   "metadata": {},
   "source": [
    "# lesson 1:\n",
    "\n",
    "数据：/zfssz3/ST_DIVERSITY/UNKNOWN_Project/liqiye/PMO/PC_PA_UN/exercise/data/test.fq.gz\n",
    "\n",
    "这是Illumina测序数据的一个例子，以fastq格式存储。  \n",
    "\n",
    "任务是：1）网上查找资料了解fastq格式；2）统计一下这批数据产量（即总共产生了多少reads和多少碱基）；3）统计一下这批数据中A、T、C、G的总个数分别是多少。\n",
    "\n",
    "Fastq format:  ＃学习一下fastq格式，这是测序数据最常用的存储格式。\n",
    "http://en.wikipedia.org/wiki/FASTQ_format\n",
    "\n",
    "\n",
    "## answer\n",
    "\n",
    "FASTQ 格式：Fastq格式是基于文本文件的，一般用于存储生物学序列（主要是核酸序列）和对应的测序质量，核酸序列为ATCGN，质量序列是单个的ASCII字符组成。\n",
    "\n",
    "**Fastq Example**\n",
    "\n",
    "![fastq_example](./image/fastq_eg.JPG)\n"
   ]
  },
  {
   "cell_type": "markdown",
   "metadata": {},
   "source": [
    "一条序列内容包括四行：\n",
    "- 第一行一般是测序时的坐标信息，@开头。\n",
    "- 第二行为序列信息，用ATCGN表示，N为无法判断的碱基。\n",
    "- 第三行以+开始，可以添加附加信息，一般为空。\n",
    "- 第四行为质量信息，由ASCII经过换算而来，即Phred值，有不同的转换算法。"
   ]
  },
  {
   "cell_type": "markdown",
   "metadata": {},
   "source": [
    "## Phred值\n",
    "\n",
    "Phred值是评估对应碱基测序质量的值，测序仪通过判断荧光信号的颜色来判断碱基的种类，ATCG分别对应不同颜色信号，信号强弱不同，在这种情况下对每个结果的判断的正确性都存在一个概率值，这个值被储存为ASCII码形式，转化方式如下：\n",
    "\n",
    "*将该碱基判断错误概率值P取log10之后再乘以-10，得到的结果为Q。*\n",
    "\n",
    "比如，P=1%，那么对应的Q=-10\\*log10（0.01）=20（这个计算公式illumina平台使用，Solexa系列测序仪使用不同的公示来计算质量值：Q=-10log(P/1-P)）\n",
    "\n",
    "把这个Q加上33或者64转成一个新的数值，称为Phred，最后把Phred对应的ASCII字符对应到这个碱基。\n",
    "\n",
    "如Q=20，Phred = 20 + 33 = 53，53在ASCII码表里对应的ASCII符号是”5”。\n"
   ]
  },
  {
   "cell_type": "markdown",
   "metadata": {},
   "source": [
    "## 数据统计"
   ]
  },
  {
   "cell_type": "code",
   "execution_count": 1,
   "metadata": {},
   "outputs": [
    {
     "name": "stdout",
     "output_type": "stream",
     "text": [
      "The number of reads:2500.\n",
      "The number of bases:110000.\n",
      "\n",
      "A:33893\t G:23066\n",
      "C:0\tT:52291\n",
      "N:750\n",
      "Done!\n"
     ]
    }
   ],
   "source": [
    "# lesson1 practice\n",
    "# date: 2018/08/01\n",
    "# author: zxzhu\n",
    "\n",
    "filename = './data/Traning/Lesson1/test.fq'\n",
    "f = open(filename, 'r')\n",
    "line_num = 0\n",
    "reads_num = 0\n",
    "bases_num = 0\n",
    "A = 0; G = 0; C = 0; T = 0; N = 0\n",
    "for line in f:\n",
    "    line_num += 1 \n",
    "    line = line.strip()\n",
    "    if line.startswith('@'):\n",
    "        reads_num += 1\n",
    "    if line_num % 4 == 2:\n",
    "        bases_num += len(line)\n",
    "        A += line.count('A')\n",
    "        G += line.count('G')\n",
    "        C += line.count('C')\n",
    "        T += line.count('T')\n",
    "        N += line.count('N')   \n",
    "\n",
    "f.close()\n",
    "print('The number of reads:{}.\\nThe number of bases:{}.\\n'.format(reads_num, bases_num))\n",
    "print('A:{}\\t G:{}\\nC:{}\\tT:{}\\nN:{}\\nDone!'.format(A,G,C,T,N))"
   ]
  },
  {
   "cell_type": "markdown",
   "metadata": {},
   "source": [
    "利用Python脚本统计出：  \n",
    "- reads数量：2500。\n",
    "- 碱基数量：110000。\n",
    "- A：33839    \n",
    "- G：23066    \n",
    "- C：0 \n",
    "- T：52291  \n",
    "- N：750"
   ]
  },
  {
   "cell_type": "markdown",
   "metadata": {},
   "source": [
    "## 总结\n",
    "这个lesson可以学习和掌握：\n",
    "1. FASTQ文件格式\n",
    "2. 简单的序列信息统计\n",
    "\n",
    "需要深入了解：Phred值的转化和一些测序历史。"
   ]
  },
  {
   "cell_type": "markdown",
   "metadata": {},
   "source": [
    "## Reference\n",
    "\n",
    "[FASTQ和FASTA格式](https://zhuanlan.zhihu.com/p/34518389)  \n",
    "\n",
    "[FASTQ format](https://en.wikipedia.org/wiki/FASTQ_format)\n",
    "\n",
    "[Fastq 格式说明 & (Phred33 or Phred64)](https://blog.csdn.net/huyongfeijoe/article/details/51613827)\n"
   ]
  }
 ],
 "metadata": {
  "kernelspec": {
   "display_name": "Python 3",
   "language": "python",
   "name": "python3"
  },
  "language_info": {
   "codemirror_mode": {
    "name": "ipython",
    "version": 3
   },
   "file_extension": ".py",
   "mimetype": "text/x-python",
   "name": "python",
   "nbconvert_exporter": "python",
   "pygments_lexer": "ipython3",
   "version": "3.6.1"
  }
 },
 "nbformat": 4,
 "nbformat_minor": 2
}
